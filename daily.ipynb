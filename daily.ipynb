{
  "nbformat": 4,
  "nbformat_minor": 0,
  "metadata": {
    "colab": {
      "provenance": [],
      "include_colab_link": true
    },
    "kernelspec": {
      "name": "python3",
      "display_name": "Python 3"
    },
    "language_info": {
      "name": "python"
    }
  },
  "cells": [
    {
      "cell_type": "markdown",
      "metadata": {
        "id": "view-in-github",
        "colab_type": "text"
      },
      "source": [
        "<a href=\"https://colab.research.google.com/github/leakysam/DayIteration/blob/main/daily.ipynb\" target=\"_parent\"><img src=\"https://colab.research.google.com/assets/colab-badge.svg\" alt=\"Open In Colab\"/></a>"
      ]
    },
    {
      "cell_type": "code",
      "execution_count": null,
      "metadata": {
        "id": "PTzYy5blhUng"
      },
      "outputs": [],
      "source": [
        "import pandas as pd\n",
        "from datetime import datetime, timedelta\n",
        "\n",
        "# Define the date range\n",
        "start_date = datetime(2024, 6, 1)\n",
        "end_date = datetime(2024, 6, 19)\n",
        "\n",
        "# Define the static data to be used in each row\n",
        "static_data = {\n",
        "    \"price\": 926,\n",
        "    \"city_id\": 21,\n",
        "    \"origin_id\": 13,\n",
        "    \"sugar_type_id\": 2,\n",
        "    \"shipment_mode_id\": 3,\n",
        "    \"contract_id\": 16\n",
        "}\n",
        "\n",
        "# Create a list to hold the data\n",
        "data = []\n",
        "\n",
        "# Populate data for each day in the date range\n",
        "current_date = start_date\n",
        "while current_date <= end_date:\n",
        "    row = {\n",
        "        \"price\": static_data[\"price\"],\n",
        "        \"date\": current_date.strftime(\"%Y-%m-%d\"),\n",
        "        \"city_id\": static_data[\"city_id\"],\n",
        "        \"origin_id\": static_data[\"origin_id\"],\n",
        "        \"sugar_type_id\": static_data[\"sugar_type_id\"],\n",
        "        \"shipment_mode_id\": static_data[\"shipment_mode_id\"],\n",
        "        \"contract_id\": static_data[\"contract_id\"]\n",
        "    }\n",
        "    data.append(row)\n",
        "    current_date += timedelta(days=1)\n",
        "\n",
        "# Convert the list of dictionaries to a DataFrame\n",
        "df = pd.DataFrame(data)\n",
        "\n",
        "# Define the output file path\n",
        "output_file = \"/mnt/data/populated_data.csv\"\n",
        "\n",
        "# Save the DataFrame to a CSV file\n",
        "df.to_csv(output_file, index=False)\n",
        "\n",
        "print(f\"Data has been populated and saved to {output_file}\")\n"
      ]
    },
    {
      "cell_type": "code",
      "source": [
        "import pandas as pd\n",
        "from datetime import datetime, timedelta\n",
        "\n",
        "# Define the input file path\n",
        "input_file = \"/content/transformedLandedCosts.csv\"\n",
        "\n",
        "# Read the data from the CSV file\n",
        "df_existing = pd.read_csv(input_file)\n",
        "\n",
        "# Convert the 'date' column to datetime\n",
        "df_existing['date'] = pd.to_datetime(df_existing['date'])\n",
        "\n",
        "# Define the date range\n",
        "start_date = datetime(2024, 5, 27)\n",
        "end_date = datetime(2024, 7, 31)\n",
        "\n",
        "# Generate all dates in the range\n",
        "all_dates = pd.date_range(start=start_date, end=end_date)\n",
        "\n",
        "# Ensure the DataFrame is sorted by date\n",
        "df_existing = df_existing.sort_values(by='date').reset_index(drop=True)\n",
        "\n",
        "# Create a list to store the new DataFrame rows\n",
        "new_data = []\n",
        "\n",
        "# Initialize last_known_data\n",
        "last_known_data = None\n",
        "\n",
        "# Iterate through all dates in the range\n",
        "for date in all_dates:\n",
        "    if date in df_existing['date'].values:\n",
        "        # Update last_known_data with the current date's data\n",
        "        last_known_data = df_existing[df_existing['date'] == date]\n",
        "    if last_known_data is not None:\n",
        "        # Add the last known data for the current date\n",
        "        new_date_data = last_known_data.copy()\n",
        "        new_date_data['date'] = date\n",
        "        new_data.append(new_date_data)\n",
        "\n",
        "# Concatenate all new data into a single DataFrame\n",
        "df_populated = pd.concat(new_data).reset_index(drop=True)\n",
        "\n",
        "# Define the output file path\n",
        "output_file = \"populated_combined_data.csv\"\n",
        "\n",
        "# Save the DataFrame to a new CSV file\n",
        "df_populated.to_csv(output_file, index=False)\n",
        "\n",
        "print(f\"Data has been saved to {output_file}\")"
      ],
      "metadata": {
        "colab": {
          "base_uri": "https://localhost:8080/"
        },
        "id": "iSKKOAwRmaeO",
        "outputId": "c67178c6-f499-4ac6-f0a2-d79f04e5f131"
      },
      "execution_count": null,
      "outputs": [
        {
          "output_type": "stream",
          "name": "stdout",
          "text": [
            "Data has been saved to populated_combined_data.csv\n"
          ]
        }
      ]
    },
    {
      "cell_type": "code",
      "source": [],
      "metadata": {
        "id": "jU-K0toJr-TC"
      },
      "execution_count": null,
      "outputs": []
    }
  ]
}