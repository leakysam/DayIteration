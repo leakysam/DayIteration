
import pandas as pd
from datetime import datetime, timedelta

# Define the input file path
input_file = "/content/transformedLandedCosts.csv"

# Read the data from the CSV file
df_existing = pd.read_csv(input_file)

# Convert the 'date' column to datetime
df_existing['date'] = pd.to_datetime(df_existing['date'])

# Define the date range
start_date = datetime(2024, 5, 27)
end_date = datetime(2024, 7, 31)

# Generate all dates in the range
all_dates = pd.date_range(start=start_date, end=end_date)

# Ensure the DataFrame is sorted by date
df_existing = df_existing.sort_values(by='date').reset_index(drop=True)

# Create a list to store the new DataFrame rows
new_data = []

# Initialize last_known_data
last_known_data = None

# Iterate through all dates in the range
for date in all_dates:
    if date in df_existing['date'].values:
        # Update last_known_data with the current date's data
        last_known_data = df_existing[df_existing['date'] == date]
    if last_known_data is not None:
        # Add the last known data for the current date
        new_date_data = last_known_data.copy()
        new_date_data['date'] = date
        new_data.append(new_date_data)

# Concatenate all new data into a single DataFrame
df_populated = pd.concat(new_data).reset_index(drop=True)

# Define the output file path
output_file = "populated_combined_data.csv"

# Save the DataFrame to a new CSV file
df_populated.to_csv(output_file, index=False)

print(f"Data has been saved to {output_file}")
